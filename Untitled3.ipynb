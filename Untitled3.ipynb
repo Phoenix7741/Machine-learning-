{
  "nbformat": 4,
  "nbformat_minor": 0,
  "metadata": {
    "colab": {
      "provenance": [],
      "authorship_tag": "ABX9TyMEI7o9wPN91Ig5K7PHDHi6",
      "include_colab_link": true
    },
    "kernelspec": {
      "name": "python3",
      "display_name": "Python 3"
    },
    "language_info": {
      "name": "python"
    }
  },
  "cells": [
    {
      "cell_type": "markdown",
      "metadata": {
        "id": "view-in-github",
        "colab_type": "text"
      },
      "source": [
        "<a href=\"https://colab.research.google.com/github/Phoenix7741/Machine-learning-/blob/main/Untitled3.ipynb\" target=\"_parent\"><img src=\"https://colab.research.google.com/assets/colab-badge.svg\" alt=\"Open In Colab\"/></a>"
      ]
    },
    {
      "cell_type": "code",
      "execution_count": 1,
      "metadata": {
        "id": "UNaC_ZKCyUnJ"
      },
      "outputs": [],
      "source": [
        "import pandas as pd\n",
        "import numpy as np\n",
        "import seaborn as sb\n",
        "import matplotlib.pyplot as plt\n",
        "import warnings\n",
        "warnings.filterwarnings(\"ignore\")"
      ]
    },
    {
      "cell_type": "code",
      "source": [
        "#Hope all the participants are treated the missing values in the HR_data used in the last inclass.\n",
        "#The imputed version of the data have to be used for this exercise.\n",
        "hrdata=pd.read_csv('https://raw.githubusercontent.com/tkseneee/Dataset/dd7313e0c6487acd9ed7cd32b786782c7a1d3885/HR_data.csv')\n",
        "hrdata.head(2)"
      ],
      "metadata": {
        "colab": {
          "base_uri": "https://localhost:8080/",
          "height": 167
        },
        "id": "cVJvrs9VymiK",
        "outputId": "1d47214d-e047-43fe-e592-fbd8a3591ad4"
      },
      "execution_count": 4,
      "outputs": [
        {
          "output_type": "execute_result",
          "data": {
            "text/plain": [
              "   Age          Workclass  fnlwgt   Education  Education_Num  \\\n",
              "0   39          State-gov   77516   Bachelors             13   \n",
              "1   50   Self-emp-not-inc   83311   Bachelors             13   \n",
              "\n",
              "        Martial_Status        Occupation    Relationship    Race Gender  \\\n",
              "0        Never-married      Adm-clerical   Not-in-family   White   Male   \n",
              "1   Married-civ-spouse   Exec-managerial         Husband   White   Male   \n",
              "\n",
              "   Capital_Gain  Capital_Loss  Hours_per_week         Country  Target  \n",
              "0          2174             0              40   United-States   <=50K  \n",
              "1             0             0              13   United-States   <=50K  "
            ],
            "text/html": [
              "\n",
              "  <div id=\"df-f5257625-afb7-43b0-9362-d0e91bcab969\" class=\"colab-df-container\">\n",
              "    <div>\n",
              "<style scoped>\n",
              "    .dataframe tbody tr th:only-of-type {\n",
              "        vertical-align: middle;\n",
              "    }\n",
              "\n",
              "    .dataframe tbody tr th {\n",
              "        vertical-align: top;\n",
              "    }\n",
              "\n",
              "    .dataframe thead th {\n",
              "        text-align: right;\n",
              "    }\n",
              "</style>\n",
              "<table border=\"1\" class=\"dataframe\">\n",
              "  <thead>\n",
              "    <tr style=\"text-align: right;\">\n",
              "      <th></th>\n",
              "      <th>Age</th>\n",
              "      <th>Workclass</th>\n",
              "      <th>fnlwgt</th>\n",
              "      <th>Education</th>\n",
              "      <th>Education_Num</th>\n",
              "      <th>Martial_Status</th>\n",
              "      <th>Occupation</th>\n",
              "      <th>Relationship</th>\n",
              "      <th>Race</th>\n",
              "      <th>Gender</th>\n",
              "      <th>Capital_Gain</th>\n",
              "      <th>Capital_Loss</th>\n",
              "      <th>Hours_per_week</th>\n",
              "      <th>Country</th>\n",
              "      <th>Target</th>\n",
              "    </tr>\n",
              "  </thead>\n",
              "  <tbody>\n",
              "    <tr>\n",
              "      <th>0</th>\n",
              "      <td>39</td>\n",
              "      <td>State-gov</td>\n",
              "      <td>77516</td>\n",
              "      <td>Bachelors</td>\n",
              "      <td>13</td>\n",
              "      <td>Never-married</td>\n",
              "      <td>Adm-clerical</td>\n",
              "      <td>Not-in-family</td>\n",
              "      <td>White</td>\n",
              "      <td>Male</td>\n",
              "      <td>2174</td>\n",
              "      <td>0</td>\n",
              "      <td>40</td>\n",
              "      <td>United-States</td>\n",
              "      <td>&lt;=50K</td>\n",
              "    </tr>\n",
              "    <tr>\n",
              "      <th>1</th>\n",
              "      <td>50</td>\n",
              "      <td>Self-emp-not-inc</td>\n",
              "      <td>83311</td>\n",
              "      <td>Bachelors</td>\n",
              "      <td>13</td>\n",
              "      <td>Married-civ-spouse</td>\n",
              "      <td>Exec-managerial</td>\n",
              "      <td>Husband</td>\n",
              "      <td>White</td>\n",
              "      <td>Male</td>\n",
              "      <td>0</td>\n",
              "      <td>0</td>\n",
              "      <td>13</td>\n",
              "      <td>United-States</td>\n",
              "      <td>&lt;=50K</td>\n",
              "    </tr>\n",
              "  </tbody>\n",
              "</table>\n",
              "</div>\n",
              "    <div class=\"colab-df-buttons\">\n",
              "\n",
              "  <div class=\"colab-df-container\">\n",
              "    <button class=\"colab-df-convert\" onclick=\"convertToInteractive('df-f5257625-afb7-43b0-9362-d0e91bcab969')\"\n",
              "            title=\"Convert this dataframe to an interactive table.\"\n",
              "            style=\"display:none;\">\n",
              "\n",
              "  <svg xmlns=\"http://www.w3.org/2000/svg\" height=\"24px\" viewBox=\"0 -960 960 960\">\n",
              "    <path d=\"M120-120v-720h720v720H120Zm60-500h600v-160H180v160Zm220 220h160v-160H400v160Zm0 220h160v-160H400v160ZM180-400h160v-160H180v160Zm440 0h160v-160H620v160ZM180-180h160v-160H180v160Zm440 0h160v-160H620v160Z\"/>\n",
              "  </svg>\n",
              "    </button>\n",
              "\n",
              "  <style>\n",
              "    .colab-df-container {\n",
              "      display:flex;\n",
              "      gap: 12px;\n",
              "    }\n",
              "\n",
              "    .colab-df-convert {\n",
              "      background-color: #E8F0FE;\n",
              "      border: none;\n",
              "      border-radius: 50%;\n",
              "      cursor: pointer;\n",
              "      display: none;\n",
              "      fill: #1967D2;\n",
              "      height: 32px;\n",
              "      padding: 0 0 0 0;\n",
              "      width: 32px;\n",
              "    }\n",
              "\n",
              "    .colab-df-convert:hover {\n",
              "      background-color: #E2EBFA;\n",
              "      box-shadow: 0px 1px 2px rgba(60, 64, 67, 0.3), 0px 1px 3px 1px rgba(60, 64, 67, 0.15);\n",
              "      fill: #174EA6;\n",
              "    }\n",
              "\n",
              "    .colab-df-buttons div {\n",
              "      margin-bottom: 4px;\n",
              "    }\n",
              "\n",
              "    [theme=dark] .colab-df-convert {\n",
              "      background-color: #3B4455;\n",
              "      fill: #D2E3FC;\n",
              "    }\n",
              "\n",
              "    [theme=dark] .colab-df-convert:hover {\n",
              "      background-color: #434B5C;\n",
              "      box-shadow: 0px 1px 3px 1px rgba(0, 0, 0, 0.15);\n",
              "      filter: drop-shadow(0px 1px 2px rgba(0, 0, 0, 0.3));\n",
              "      fill: #FFFFFF;\n",
              "    }\n",
              "  </style>\n",
              "\n",
              "    <script>\n",
              "      const buttonEl =\n",
              "        document.querySelector('#df-f5257625-afb7-43b0-9362-d0e91bcab969 button.colab-df-convert');\n",
              "      buttonEl.style.display =\n",
              "        google.colab.kernel.accessAllowed ? 'block' : 'none';\n",
              "\n",
              "      async function convertToInteractive(key) {\n",
              "        const element = document.querySelector('#df-f5257625-afb7-43b0-9362-d0e91bcab969');\n",
              "        const dataTable =\n",
              "          await google.colab.kernel.invokeFunction('convertToInteractive',\n",
              "                                                    [key], {});\n",
              "        if (!dataTable) return;\n",
              "\n",
              "        const docLinkHtml = 'Like what you see? Visit the ' +\n",
              "          '<a target=\"_blank\" href=https://colab.research.google.com/notebooks/data_table.ipynb>data table notebook</a>'\n",
              "          + ' to learn more about interactive tables.';\n",
              "        element.innerHTML = '';\n",
              "        dataTable['output_type'] = 'display_data';\n",
              "        await google.colab.output.renderOutput(dataTable, element);\n",
              "        const docLink = document.createElement('div');\n",
              "        docLink.innerHTML = docLinkHtml;\n",
              "        element.appendChild(docLink);\n",
              "      }\n",
              "    </script>\n",
              "  </div>\n",
              "\n",
              "\n",
              "<div id=\"df-5e464906-ce3c-4314-a424-308268210d51\">\n",
              "  <button class=\"colab-df-quickchart\" onclick=\"quickchart('df-5e464906-ce3c-4314-a424-308268210d51')\"\n",
              "            title=\"Suggest charts\"\n",
              "            style=\"display:none;\">\n",
              "\n",
              "<svg xmlns=\"http://www.w3.org/2000/svg\" height=\"24px\"viewBox=\"0 0 24 24\"\n",
              "     width=\"24px\">\n",
              "    <g>\n",
              "        <path d=\"M19 3H5c-1.1 0-2 .9-2 2v14c0 1.1.9 2 2 2h14c1.1 0 2-.9 2-2V5c0-1.1-.9-2-2-2zM9 17H7v-7h2v7zm4 0h-2V7h2v10zm4 0h-2v-4h2v4z\"/>\n",
              "    </g>\n",
              "</svg>\n",
              "  </button>\n",
              "\n",
              "<style>\n",
              "  .colab-df-quickchart {\n",
              "      --bg-color: #E8F0FE;\n",
              "      --fill-color: #1967D2;\n",
              "      --hover-bg-color: #E2EBFA;\n",
              "      --hover-fill-color: #174EA6;\n",
              "      --disabled-fill-color: #AAA;\n",
              "      --disabled-bg-color: #DDD;\n",
              "  }\n",
              "\n",
              "  [theme=dark] .colab-df-quickchart {\n",
              "      --bg-color: #3B4455;\n",
              "      --fill-color: #D2E3FC;\n",
              "      --hover-bg-color: #434B5C;\n",
              "      --hover-fill-color: #FFFFFF;\n",
              "      --disabled-bg-color: #3B4455;\n",
              "      --disabled-fill-color: #666;\n",
              "  }\n",
              "\n",
              "  .colab-df-quickchart {\n",
              "    background-color: var(--bg-color);\n",
              "    border: none;\n",
              "    border-radius: 50%;\n",
              "    cursor: pointer;\n",
              "    display: none;\n",
              "    fill: var(--fill-color);\n",
              "    height: 32px;\n",
              "    padding: 0;\n",
              "    width: 32px;\n",
              "  }\n",
              "\n",
              "  .colab-df-quickchart:hover {\n",
              "    background-color: var(--hover-bg-color);\n",
              "    box-shadow: 0 1px 2px rgba(60, 64, 67, 0.3), 0 1px 3px 1px rgba(60, 64, 67, 0.15);\n",
              "    fill: var(--button-hover-fill-color);\n",
              "  }\n",
              "\n",
              "  .colab-df-quickchart-complete:disabled,\n",
              "  .colab-df-quickchart-complete:disabled:hover {\n",
              "    background-color: var(--disabled-bg-color);\n",
              "    fill: var(--disabled-fill-color);\n",
              "    box-shadow: none;\n",
              "  }\n",
              "\n",
              "  .colab-df-spinner {\n",
              "    border: 2px solid var(--fill-color);\n",
              "    border-color: transparent;\n",
              "    border-bottom-color: var(--fill-color);\n",
              "    animation:\n",
              "      spin 1s steps(1) infinite;\n",
              "  }\n",
              "\n",
              "  @keyframes spin {\n",
              "    0% {\n",
              "      border-color: transparent;\n",
              "      border-bottom-color: var(--fill-color);\n",
              "      border-left-color: var(--fill-color);\n",
              "    }\n",
              "    20% {\n",
              "      border-color: transparent;\n",
              "      border-left-color: var(--fill-color);\n",
              "      border-top-color: var(--fill-color);\n",
              "    }\n",
              "    30% {\n",
              "      border-color: transparent;\n",
              "      border-left-color: var(--fill-color);\n",
              "      border-top-color: var(--fill-color);\n",
              "      border-right-color: var(--fill-color);\n",
              "    }\n",
              "    40% {\n",
              "      border-color: transparent;\n",
              "      border-right-color: var(--fill-color);\n",
              "      border-top-color: var(--fill-color);\n",
              "    }\n",
              "    60% {\n",
              "      border-color: transparent;\n",
              "      border-right-color: var(--fill-color);\n",
              "    }\n",
              "    80% {\n",
              "      border-color: transparent;\n",
              "      border-right-color: var(--fill-color);\n",
              "      border-bottom-color: var(--fill-color);\n",
              "    }\n",
              "    90% {\n",
              "      border-color: transparent;\n",
              "      border-bottom-color: var(--fill-color);\n",
              "    }\n",
              "  }\n",
              "</style>\n",
              "\n",
              "  <script>\n",
              "    async function quickchart(key) {\n",
              "      const quickchartButtonEl =\n",
              "        document.querySelector('#' + key + ' button');\n",
              "      quickchartButtonEl.disabled = true;  // To prevent multiple clicks.\n",
              "      quickchartButtonEl.classList.add('colab-df-spinner');\n",
              "      try {\n",
              "        const charts = await google.colab.kernel.invokeFunction(\n",
              "            'suggestCharts', [key], {});\n",
              "      } catch (error) {\n",
              "        console.error('Error during call to suggestCharts:', error);\n",
              "      }\n",
              "      quickchartButtonEl.classList.remove('colab-df-spinner');\n",
              "      quickchartButtonEl.classList.add('colab-df-quickchart-complete');\n",
              "    }\n",
              "    (() => {\n",
              "      let quickchartButtonEl =\n",
              "        document.querySelector('#df-5e464906-ce3c-4314-a424-308268210d51 button');\n",
              "      quickchartButtonEl.style.display =\n",
              "        google.colab.kernel.accessAllowed ? 'block' : 'none';\n",
              "    })();\n",
              "  </script>\n",
              "</div>\n",
              "\n",
              "    </div>\n",
              "  </div>\n"
            ],
            "application/vnd.google.colaboratory.intrinsic+json": {
              "type": "dataframe",
              "variable_name": "hrdata",
              "summary": "{\n  \"name\": \"hrdata\",\n  \"rows\": 36527,\n  \"fields\": [\n    {\n      \"column\": \"Age\",\n      \"properties\": {\n        \"dtype\": \"number\",\n        \"std\": 13,\n        \"min\": 17,\n        \"max\": 90,\n        \"num_unique_values\": 74,\n        \"samples\": [\n          28,\n          73,\n          35\n        ],\n        \"semantic_type\": \"\",\n        \"description\": \"\"\n      }\n    },\n    {\n      \"column\": \"Workclass\",\n      \"properties\": {\n        \"dtype\": \"category\",\n        \"num_unique_values\": 8,\n        \"samples\": [\n          \" Self-emp-not-inc\",\n          \" Self-emp-inc\",\n          \" State-gov\"\n        ],\n        \"semantic_type\": \"\",\n        \"description\": \"\"\n      }\n    },\n    {\n      \"column\": \"fnlwgt\",\n      \"properties\": {\n        \"dtype\": \"number\",\n        \"std\": 105796,\n        \"min\": 12285,\n        \"max\": 1484705,\n        \"num_unique_values\": 23515,\n        \"samples\": [\n          469602,\n          178417,\n          72436\n        ],\n        \"semantic_type\": \"\",\n        \"description\": \"\"\n      }\n    },\n    {\n      \"column\": \"Education\",\n      \"properties\": {\n        \"dtype\": \"category\",\n        \"num_unique_values\": 16,\n        \"samples\": [\n          \" Bachelors\",\n          \" HS-grad\",\n          \" Some-college\"\n        ],\n        \"semantic_type\": \"\",\n        \"description\": \"\"\n      }\n    },\n    {\n      \"column\": \"Education_Num\",\n      \"properties\": {\n        \"dtype\": \"number\",\n        \"std\": 2,\n        \"min\": 1,\n        \"max\": 16,\n        \"num_unique_values\": 16,\n        \"samples\": [\n          13,\n          9,\n          10\n        ],\n        \"semantic_type\": \"\",\n        \"description\": \"\"\n      }\n    },\n    {\n      \"column\": \"Martial_Status\",\n      \"properties\": {\n        \"dtype\": \"category\",\n        \"num_unique_values\": 7,\n        \"samples\": [\n          \" Never-married\",\n          \" Married-civ-spouse\",\n          \" Married-AF-spouse\"\n        ],\n        \"semantic_type\": \"\",\n        \"description\": \"\"\n      }\n    },\n    {\n      \"column\": \"Occupation\",\n      \"properties\": {\n        \"dtype\": \"category\",\n        \"num_unique_values\": 14,\n        \"samples\": [\n          \" Machine-op-inspct\",\n          \" Protective-serv\",\n          \" Adm-clerical\"\n        ],\n        \"semantic_type\": \"\",\n        \"description\": \"\"\n      }\n    },\n    {\n      \"column\": \"Relationship\",\n      \"properties\": {\n        \"dtype\": \"category\",\n        \"num_unique_values\": 6,\n        \"samples\": [\n          \" Not-in-family\",\n          \" Husband\",\n          \" Other-relative\"\n        ],\n        \"semantic_type\": \"\",\n        \"description\": \"\"\n      }\n    },\n    {\n      \"column\": \"Race\",\n      \"properties\": {\n        \"dtype\": \"category\",\n        \"num_unique_values\": 5,\n        \"samples\": [\n          \" Black\",\n          \" Other\",\n          \" Asian-Pac-Islander\"\n        ],\n        \"semantic_type\": \"\",\n        \"description\": \"\"\n      }\n    },\n    {\n      \"column\": \"Gender\",\n      \"properties\": {\n        \"dtype\": \"category\",\n        \"num_unique_values\": 2,\n        \"samples\": [\n          \" Female\",\n          \" Male\"\n        ],\n        \"semantic_type\": \"\",\n        \"description\": \"\"\n      }\n    },\n    {\n      \"column\": \"Capital_Gain\",\n      \"properties\": {\n        \"dtype\": \"number\",\n        \"std\": 7364,\n        \"min\": 0,\n        \"max\": 99999,\n        \"num_unique_values\": 120,\n        \"samples\": [\n          25124,\n          2961\n        ],\n        \"semantic_type\": \"\",\n        \"description\": \"\"\n      }\n    },\n    {\n      \"column\": \"Capital_Loss\",\n      \"properties\": {\n        \"dtype\": \"number\",\n        \"std\": 403,\n        \"min\": 0,\n        \"max\": 4356,\n        \"num_unique_values\": 94,\n        \"samples\": [\n          419,\n          2051\n        ],\n        \"semantic_type\": \"\",\n        \"description\": \"\"\n      }\n    },\n    {\n      \"column\": \"Hours_per_week\",\n      \"properties\": {\n        \"dtype\": \"number\",\n        \"std\": 12,\n        \"min\": 1,\n        \"max\": 99,\n        \"num_unique_values\": 95,\n        \"samples\": [\n          68,\n          22\n        ],\n        \"semantic_type\": \"\",\n        \"description\": \"\"\n      }\n    },\n    {\n      \"column\": \"Country\",\n      \"properties\": {\n        \"dtype\": \"category\",\n        \"num_unique_values\": 41,\n        \"samples\": [\n          \" El-Salvador\",\n          \" Italy\"\n        ],\n        \"semantic_type\": \"\",\n        \"description\": \"\"\n      }\n    },\n    {\n      \"column\": \"Target\",\n      \"properties\": {\n        \"dtype\": \"category\",\n        \"num_unique_values\": 4,\n        \"samples\": [\n          \" >50K\",\n          \" >50K.\"\n        ],\n        \"semantic_type\": \"\",\n        \"description\": \"\"\n      }\n    }\n  ]\n}"
            }
          },
          "metadata": {},
          "execution_count": 4
        }
      ]
    },
    {
      "cell_type": "code",
      "source": [
        "\n",
        "missing_values = hrdata.isnull().sum()\n",
        "print(\"Missing values in each column:\\n\", missing_values)"
      ],
      "metadata": {
        "colab": {
          "base_uri": "https://localhost:8080/"
        },
        "id": "Rd2wtOJOy5q8",
        "outputId": "41c57c53-febd-4a62-f9b8-531d673f86ac"
      },
      "execution_count": 5,
      "outputs": [
        {
          "output_type": "stream",
          "name": "stdout",
          "text": [
            "Missing values in each column:\n",
            " Age                  0\n",
            "Workclass         2079\n",
            "fnlwgt               0\n",
            "Education            0\n",
            "Education_Num        0\n",
            "Martial_Status       0\n",
            "Occupation        2087\n",
            "Relationship         0\n",
            "Race                 0\n",
            "Gender               0\n",
            "Capital_Gain         0\n",
            "Capital_Loss         0\n",
            "Hours_per_week       0\n",
            "Country            656\n",
            "Target               0\n",
            "dtype: int64\n"
          ]
        }
      ]
    },
    {
      "cell_type": "code",
      "source": [
        "\n",
        "numeric_data = hrdata.select_dtypes(include=[np.number])\n",
        "print(\"Numeric columns:\\n\", numeric_data.head(2))"
      ],
      "metadata": {
        "colab": {
          "base_uri": "https://localhost:8080/"
        },
        "id": "1Rbx8H0dzeqp",
        "outputId": "c89c2ca9-3039-4e05-945c-2c6e21f35ebc"
      },
      "execution_count": 6,
      "outputs": [
        {
          "output_type": "stream",
          "name": "stdout",
          "text": [
            "Numeric columns:\n",
            "    Age  fnlwgt  Education_Num  Capital_Gain  Capital_Loss  Hours_per_week\n",
            "0   39   77516             13          2174             0              40\n",
            "1   50   83311             13             0             0              13\n"
          ]
        }
      ]
    },
    {
      "cell_type": "code",
      "source": [
        "\n",
        "ranges = numeric_data.max() - numeric_data.min()\n",
        "print(\"Range of each numeric column:\\n\", ranges)"
      ],
      "metadata": {
        "colab": {
          "base_uri": "https://localhost:8080/"
        },
        "id": "LoGeYSXgz_zX",
        "outputId": "794c2bee-3b0b-4610-c70c-b069519e02c9"
      },
      "execution_count": 7,
      "outputs": [
        {
          "output_type": "stream",
          "name": "stdout",
          "text": [
            "Range of each numeric column:\n",
            " Age                    73\n",
            "fnlwgt            1472420\n",
            "Education_Num          15\n",
            "Capital_Gain        99999\n",
            "Capital_Loss         4356\n",
            "Hours_per_week         98\n",
            "dtype: int64\n"
          ]
        }
      ]
    },
    {
      "cell_type": "code",
      "source": [
        "\n",
        "print(\"\\nComments on the need for scaling:\")\n",
        "for column, range_value in ranges.items():\n",
        "    print(f\"{column}: Range = {range_value}\")"
      ],
      "metadata": {
        "colab": {
          "base_uri": "https://localhost:8080/"
        },
        "id": "DDhTdBP60DkL",
        "outputId": "46f5a8a0-9289-462b-81f8-f3de07bb1811"
      },
      "execution_count": 8,
      "outputs": [
        {
          "output_type": "stream",
          "name": "stdout",
          "text": [
            "\n",
            "Comments on the need for scaling:\n",
            "Age: Range = 73\n",
            "fnlwgt: Range = 1472420\n",
            "Education_Num: Range = 15\n",
            "Capital_Gain: Range = 99999\n",
            "Capital_Loss: Range = 4356\n",
            "Hours_per_week: Range = 98\n"
          ]
        }
      ]
    },
    {
      "cell_type": "code",
      "source": [
        "\n",
        "Age_mean = numeric_data['Age'].mean()\n",
        "Age_std = numeric_data['Age'].std()\n",
        "numeric_data['Age_standard_scaled'] = (numeric_data['Age'] - Age_mean) / Age_std\n",
        "print(numeric_data['Age_standard_scaled'].head())"
      ],
      "metadata": {
        "colab": {
          "base_uri": "https://localhost:8080/"
        },
        "id": "1-9eNnwl0Ifl",
        "outputId": "64800c0b-a028-4a0f-9a0e-74998092c65e"
      },
      "execution_count": 9,
      "outputs": [
        {
          "output_type": "stream",
          "name": "stdout",
          "text": [
            "0    0.029050\n",
            "1    0.834352\n",
            "2   -0.044160\n",
            "3    1.053980\n",
            "4   -0.776253\n",
            "Name: Age_standard_scaled, dtype: float64\n"
          ]
        }
      ]
    },
    {
      "cell_type": "code",
      "source": [
        "\n",
        "# Min, Max, Mean, and Standard Deviation of the manually scaled 'Area' column\n",
        "scaled_Age_min = numeric_data['Age_standard_scaled'].min()\n",
        "scaled_Age_max = numeric_data['Age_standard_scaled'].max()\n",
        "scaled_Age_mean = numeric_data['Age_standard_scaled'].mean()\n",
        "scaled_Age_std = numeric_data['Age_standard_scaled'].std()\n",
        "\n",
        "print(f\"Min: {scaled_Age_min}\")\n",
        "print(f\"Max: {scaled_Age_max}\")\n",
        "print(f\"Mean: {scaled_Age_mean}\")\n",
        "print(f\"Standard Deviation: {scaled_Age_std}\")"
      ],
      "metadata": {
        "colab": {
          "base_uri": "https://localhost:8080/"
        },
        "id": "etTerooK53j7",
        "outputId": "13004be3-15a8-498f-91d7-10b4ad4ec573"
      },
      "execution_count": 10,
      "outputs": [
        {
          "output_type": "stream",
          "name": "stdout",
          "text": [
            "Min: -1.5815552128571506\n",
            "Max: 3.762724485511142\n",
            "Mean: 4.843681145570809e-17\n",
            "Standard Deviation: 1.0\n"
          ]
        }
      ]
    },
    {
      "cell_type": "code",
      "source": [
        "\n",
        "from sklearn.preprocessing import StandardScaler\n",
        "\n",
        "# Standard scale all numeric columns using Sklearn\n",
        "scaler = StandardScaler()\n",
        "scaled_data = scaler.fit_transform(numeric_data)\n",
        "\n",
        "# Convert back to DataFrame for easier handling\n",
        "scaled_df = pd.DataFrame(scaled_data, columns=numeric_data.columns)\n",
        "print(scaled_df.head(2))"
      ],
      "metadata": {
        "colab": {
          "base_uri": "https://localhost:8080/"
        },
        "id": "kHr2hv_-57t8",
        "outputId": "26a1e5dd-7df5-4c78-c3f6-1e978402d88c"
      },
      "execution_count": 11,
      "outputs": [
        {
          "output_type": "stream",
          "name": "stdout",
          "text": [
            "        Age    fnlwgt  Education_Num  Capital_Gain  Capital_Loss  \\\n",
            "0  0.029050 -1.062152       1.134136      0.149031     -0.216957   \n",
            "1  0.834363 -1.007377       1.134136     -0.146177     -0.216957   \n",
            "\n",
            "   Hours_per_week  Age_standard_scaled  \n",
            "0       -0.034641             0.029050  \n",
            "1       -2.218354             0.834363  \n"
          ]
        }
      ]
    },
    {
      "cell_type": "code",
      "source": [
        "\n",
        "# Check if mean and standard deviation of all scaled columns are 0 and 1 respectively\n",
        "scaled_means = scaled_df.mean()\n",
        "scaled_stds = scaled_df.std()\n",
        "\n",
        "print(\"Means of scaled columns:\")\n",
        "print(scaled_means)\n",
        "print(\"\\nStandard deviations of scaled columns:\")\n",
        "print(scaled_stds)"
      ],
      "metadata": {
        "colab": {
          "base_uri": "https://localhost:8080/"
        },
        "id": "_8M1abDD6Eda",
        "outputId": "a5896313-9224-49f1-ca5c-e2ff8fa8155c"
      },
      "execution_count": 12,
      "outputs": [
        {
          "output_type": "stream",
          "name": "stdout",
          "text": [
            "Means of scaled columns:\n",
            "Age                    4.551893e-17\n",
            "fnlwgt                 1.279977e-16\n",
            "Education_Num         -2.373209e-17\n",
            "Capital_Gain          -6.370705e-17\n",
            "Capital_Loss          -6.234537e-17\n",
            "Hours_per_week         8.996797e-17\n",
            "Age_standard_scaled    4.007222e-17\n",
            "dtype: float64\n",
            "\n",
            "Standard deviations of scaled columns:\n",
            "Age                    1.000014\n",
            "fnlwgt                 1.000014\n",
            "Education_Num          1.000014\n",
            "Capital_Gain           1.000014\n",
            "Capital_Loss           1.000014\n",
            "Hours_per_week         1.000014\n",
            "Age_standard_scaled    1.000014\n",
            "dtype: float64\n"
          ]
        }
      ]
    },
    {
      "cell_type": "code",
      "source": [
        "\n",
        "# Inverse transform the scaled data back to original form\n",
        "inversed_data = scaler.inverse_transform(scaled_df)\n",
        "inversed_df = pd.DataFrame(inversed_data, columns=numeric_data.columns)\n",
        "\n",
        "print(inversed_df.head(2))"
      ],
      "metadata": {
        "colab": {
          "base_uri": "https://localhost:8080/"
        },
        "id": "bzZgumo86GV0",
        "outputId": "c4f30125-d11b-4597-9ee4-e596d1e806ff"
      },
      "execution_count": 13,
      "outputs": [
        {
          "output_type": "stream",
          "name": "stdout",
          "text": [
            "    Age   fnlwgt  Education_Num  Capital_Gain  Capital_Loss  Hours_per_week  \\\n",
            "0  39.0  77516.0           13.0        2174.0           0.0            40.0   \n",
            "1  50.0  83311.0           13.0           0.0           0.0            13.0   \n",
            "\n",
            "   Age_standard_scaled  \n",
            "0             0.029050  \n",
            "1             0.834352  \n"
          ]
        }
      ]
    },
    {
      "cell_type": "code",
      "source": [
        "\n",
        "from sklearn.preprocessing import MinMaxScaler\n",
        "\n",
        "# Apply Min-Max scaling\n",
        "min_max_scaler = MinMaxScaler()\n",
        "min_max_scaled_data = min_max_scaler.fit_transform(numeric_data)\n",
        "\n",
        "# Convert back to DataFrame\n",
        "min_max_scaled_df = pd.DataFrame(min_max_scaled_data, columns=numeric_data.columns)\n",
        "\n",
        "print(min_max_scaled_df.head(2))\n",
        "\n",
        "# Print Min and Max values of the scaled data\n",
        "min_max_scaled_min = min_max_scaled_df.min()\n",
        "min_max_scaled_max = min_max_scaled_df.max()\n",
        "\n",
        "print(\"\\nMin values of scaled columns:\")\n",
        "print(min_max_scaled_min)\n",
        "print(\"\\nMax values of scaled columns:\")\n",
        "print(min_max_scaled_max)"
      ],
      "metadata": {
        "colab": {
          "base_uri": "https://localhost:8080/"
        },
        "id": "_2ybyWYw6nAh",
        "outputId": "3173696f-371e-4e8c-b99a-d6b912aea2fe"
      },
      "execution_count": 14,
      "outputs": [
        {
          "output_type": "stream",
          "name": "stdout",
          "text": [
            "        Age    fnlwgt  Education_Num  Capital_Gain  Capital_Loss  \\\n",
            "0  0.301370  0.044302            0.8       0.02174           0.0   \n",
            "1  0.452055  0.048238            0.8       0.00000           0.0   \n",
            "\n",
            "   Hours_per_week  Age_standard_scaled  \n",
            "0        0.397959             0.301370  \n",
            "1        0.122449             0.452055  \n",
            "\n",
            "Min values of scaled columns:\n",
            "Age                    0.0\n",
            "fnlwgt                 0.0\n",
            "Education_Num          0.0\n",
            "Capital_Gain           0.0\n",
            "Capital_Loss           0.0\n",
            "Hours_per_week         0.0\n",
            "Age_standard_scaled    0.0\n",
            "dtype: float64\n",
            "\n",
            "Max values of scaled columns:\n",
            "Age                    1.0\n",
            "fnlwgt                 1.0\n",
            "Education_Num          1.0\n",
            "Capital_Gain           1.0\n",
            "Capital_Loss           1.0\n",
            "Hours_per_week         1.0\n",
            "Age_standard_scaled    1.0\n",
            "dtype: float64\n"
          ]
        }
      ]
    },
    {
      "cell_type": "code",
      "source": [
        "\n",
        "from sklearn.preprocessing import RobustScaler\n",
        "\n",
        "# Apply Robust scaling\n",
        "robust_scaler = RobustScaler()\n",
        "robust_scaled_data = robust_scaler.fit_transform(numeric_data)\n",
        "\n",
        "# Convert back to DataFrame\n",
        "robust_scaled_df = pd.DataFrame(robust_scaled_data, columns=numeric_data.columns)\n",
        "\n",
        "print(robust_scaled_df.head(2))"
      ],
      "metadata": {
        "colab": {
          "base_uri": "https://localhost:8080/"
        },
        "id": "X8hq22IE6o9t",
        "outputId": "10effd17-19b2-48ba-8111-cad7e89d00fc"
      },
      "execution_count": 15,
      "outputs": [
        {
          "output_type": "stream",
          "name": "stdout",
          "text": [
            "    Age    fnlwgt  Education_Num  Capital_Gain  Capital_Loss  Hours_per_week  \\\n",
            "0  0.10 -0.841482            1.0        2174.0           0.0             0.0   \n",
            "1  0.65 -0.793073            1.0           0.0           0.0            -5.4   \n",
            "\n",
            "   Age_standard_scaled  \n",
            "0                 0.10  \n",
            "1                 0.65  \n"
          ]
        }
      ]
    },
    {
      "cell_type": "code",
      "source": [],
      "metadata": {
        "id": "RgomF4er6toR"
      },
      "execution_count": null,
      "outputs": []
    }
  ]
}